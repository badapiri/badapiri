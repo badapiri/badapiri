{
  "nbformat": 4,
  "nbformat_minor": 0,
  "metadata": {
    "colab": {
      "provenance": [],
      "authorship_tag": "ABX9TyPZwerLF1JlZs9ebefyGllF",
      "include_colab_link": true
    },
    "kernelspec": {
      "name": "python3",
      "display_name": "Python 3"
    },
    "language_info": {
      "name": "python"
    }
  },
  "cells": [
    {
      "cell_type": "markdown",
      "metadata": {
        "id": "view-in-github",
        "colab_type": "text"
      },
      "source": [
        "<a href=\"https://colab.research.google.com/github/badapiri/badapiri/blob/main/1_%ED%8C%8C%EC%9D%B4%EC%8D%AC_%EA%B8%B0%EC%B4%88.ipynb\" target=\"_parent\"><img src=\"https://colab.research.google.com/assets/colab-badge.svg\" alt=\"Open In Colab\"/></a>"
      ]
    },
    {
      "cell_type": "markdown",
      "source": [
        "파이썬은 띄어쓰기 조심! / print() 문장은 화면에 출력해주는 명령어"
      ],
      "metadata": {
        "id": "VW2AWzpxtZqx"
      }
    },
    {
      "cell_type": "markdown",
      "source": [
        "파이썬에서 변수 만들기는 쉬움. 그냥 약속되지 않은 이름을 사용하면 됨."
      ],
      "metadata": {
        "id": "vZUSbVVAvCA3"
      }
    },
    {
      "cell_type": "code",
      "source": [
        "print('2023-03-14 11분만에 레바의 모험 파이널 클리어')"
      ],
      "metadata": {
        "colab": {
          "base_uri": "https://localhost:8080/"
        },
        "id": "A2w-KW8RkxEp",
        "outputId": "8b06fb76-0ba3-43ff-9cbf-e94422bebca1"
      },
      "execution_count": null,
      "outputs": [
        {
          "output_type": "stream",
          "name": "stdout",
          "text": [
            "03-14 11분만에 레바의 모험 파이널 클리어\n"
          ]
        }
      ]
    },
    {
      "cell_type": "code",
      "execution_count": null,
      "metadata": {
        "colab": {
          "base_uri": "https://localhost:8080/"
        },
        "id": "At6rY0KHsFz8",
        "outputId": "f209fe24-c854-4dc5-b09e-62479bb8f006"
      },
      "outputs": [
        {
          "output_type": "stream",
          "name": "stdout",
          "text": [
            "This is My first python code!\n"
          ]
        }
      ],
      "source": [
        "print('This is My first python code!')"
      ]
    },
    {
      "cell_type": "code",
      "source": [
        "name = '홍길동' #홀따옴표로 감싸있음 => 문자열\n",
        "age = 2 #숫자\n",
        "age = age + 1\n",
        "print('안녕하세요 난', name, age)"
      ],
      "metadata": {
        "id": "p9HXdHq_tiA4",
        "colab": {
          "base_uri": "https://localhost:8080/"
        },
        "outputId": "e29dc114-7bb0-4d90-82a2-28260787dba7"
      },
      "execution_count": null,
      "outputs": [
        {
          "output_type": "stream",
          "name": "stdout",
          "text": [
            "안녕하세요 난 홍길동 3\n"
          ]
        }
      ]
    },
    {
      "cell_type": "code",
      "source": [
        "#연산자\n",
        "a = 5\n",
        "b = 3\n",
        "print(a%b)"
      ],
      "metadata": {
        "colab": {
          "base_uri": "https://localhost:8080/"
        },
        "id": "JX-zh3h1_z8k",
        "outputId": "9261a3c7-0a77-46d3-a824-a74d2cdda4ee"
      },
      "execution_count": null,
      "outputs": [
        {
          "output_type": "stream",
          "name": "stdout",
          "text": [
            "2\n"
          ]
        }
      ]
    },
    {
      "cell_type": "code",
      "source": [
        "a = 5\n",
        "b = 3\n",
        "print(a == b) # == 같은가? (비교연산자)\n",
        "print(a != b) # != 같지 않은가?"
      ],
      "metadata": {
        "colab": {
          "base_uri": "https://localhost:8080/"
        },
        "id": "J9GKiV83AmCD",
        "outputId": "4618b09a-422b-485e-de67-285dface7521"
      },
      "execution_count": null,
      "outputs": [
        {
          "output_type": "stream",
          "name": "stdout",
          "text": [
            "False\n",
            "True\n"
          ]
        }
      ]
    },
    {
      "cell_type": "code",
      "source": [
        "a = 5\n",
        "b = 10\n",
        "c = b\n",
        "b = a\n",
        "a = c\n",
        "# c없이 a와 b로만 변경하기\n",
        "# a = a + b 15\n",
        "# b = a - b 5\n",
        "# a = a - b 10\n",
        "print(a, b) #서로 반대가 되게. (10, 5)"
      ],
      "metadata": {
        "colab": {
          "base_uri": "https://localhost:8080/"
        },
        "id": "etefjFYQBF-q",
        "outputId": "b5268bde-e72c-4ba3-8f86-7aa4a870855c"
      },
      "execution_count": null,
      "outputs": [
        {
          "output_type": "stream",
          "name": "stdout",
          "text": [
            "10 5\n"
          ]
        }
      ]
    },
    {
      "cell_type": "code",
      "source": [
        "str = 'hello' #문자열"
      ],
      "metadata": {
        "id": "MoWnNrYacsxZ"
      },
      "execution_count": null,
      "outputs": []
    },
    {
      "cell_type": "code",
      "source": [
        "print(str)"
      ],
      "metadata": {
        "colab": {
          "base_uri": "https://localhost:8080/"
        },
        "id": "WXA5xLJYdDQh",
        "outputId": "12eb8718-d551-4ab3-8192-d9fa02a52e33"
      },
      "execution_count": null,
      "outputs": [
        {
          "output_type": "stream",
          "name": "stdout",
          "text": [
            "hello\n"
          ]
        }
      ]
    },
    {
      "cell_type": "code",
      "source": [
        "#우리 반 학생을 저장 (1~10번) \n",
        "s1 = '김개똥'\n",
        "s2 = '홍길동'\n",
        "#만약 학생이 100명이라면 ? => 100의 변수가 필요\n",
        "#하나의 묶음으로 보관 => List (다른 언어서는 배열 array)\n",
        "\n",
        "student = ['김개똥', '홍길동', 100 , '김철수'] #리스트에 다른 형태의 자료형도 보관가능\n",
        "print(student[1]) #리스트 번지는 0번지 부터 시작한다 (십진수는 0~9까지)\n",
        "# .의 의미 얘가 할 수 있는 기능 목록이 나옴\n",
        "student.append('이정환') #append는 새로운 항목을 추가 할 때\n",
        "print(student[4])\n",
        "#리스트에서 쓸 수 있ㄴㄴ 기능들은 어떤게 있을까??\n",
        "student.pop(1)\n",
        "#다시 출력\n",
        "print(student)"
      ],
      "metadata": {
        "colab": {
          "base_uri": "https://localhost:8080/"
        },
        "id": "OojipcwBdKlZ",
        "outputId": "5d993163-a38d-4180-9350-76b6537bec9f"
      },
      "execution_count": null,
      "outputs": [
        {
          "output_type": "stream",
          "name": "stdout",
          "text": [
            "홍길동\n",
            "이정환\n",
            "['김개똥', 100, '김철수', '이정환']\n"
          ]
        }
      ]
    },
    {
      "cell_type": "code",
      "source": [
        "#만약 1번의 이름, 국어, 영어. 정보 성적을 보관\n",
        "#2번의 이름, 국어. 영어, 정보\n",
        "s1 = ['김개똥', 100, 50 ,70]\n",
        "s2 = ['홍길동', 60 ,70 ,100]\n",
        "\n",
        "cls = [s1, s2] #리스트(배열)안에 리스트를 넣을 수 있음 => 2차원 리스트(배열)\n",
        "print(cls[0]) #s1=김개똥의 배열\n",
        "print(s1[1])#김개똥의 국어 점수\n",
        "print(cls[0][1])\n",
        "\n",
        "#배열과 리스트가 같을까?? => 배열은 크기가 고정 = 변경 불가, 리스트는 변함"
      ],
      "metadata": {
        "colab": {
          "base_uri": "https://localhost:8080/"
        },
        "id": "B23UtL2njEo6",
        "outputId": "8cf5188f-5eca-467c-e1da-cfd1eb770669"
      },
      "execution_count": null,
      "outputs": [
        {
          "output_type": "stream",
          "name": "stdout",
          "text": [
            "['김개똥', 100, 50, 70]\n",
            "100\n",
            "100\n"
          ]
        }
      ]
    },
    {
      "cell_type": "code",
      "source": [
        "#여기만 실행하면 안됨\n",
        "#type(변수) = 변수의 타입(자료의 형태를 출력)\n",
        "\n",
        "print(type(cls)) #cls의 자료형\n",
        "num = 3\n",
        "print(type(num))"
      ],
      "metadata": {
        "colab": {
          "base_uri": "https://localhost:8080/"
        },
        "id": "TEYL8M-cpHgr",
        "outputId": "bc5d51cd-bc87-44b0-81b6-0e0f834848cd"
      },
      "execution_count": null,
      "outputs": [
        {
          "output_type": "stream",
          "name": "stdout",
          "text": [
            "<class 'list'>\n",
            "<class 'int'>\n"
          ]
        }
      ]
    },
    {
      "cell_type": "code",
      "source": [
        "#사용자 입력\n",
        "name = input(\"이름을 입력해주세요 >>> \") #입력하기 기능\n",
        "#또는 name = input('이름을 입력하세요')\n",
        "#print('Hello', name)\n",
        "print('hello '+ name)\n",
        "print(f'hello {name}') # f'로 시작하는 포맷팅을 이용해서 변수를 안에 표현 할 수 있음"
      ],
      "metadata": {
        "colab": {
          "base_uri": "https://localhost:8080/"
        },
        "id": "MfphnE8vrMFQ",
        "outputId": "cda81eca-bb96-4e75-abf2-489ed08511f1"
      },
      "execution_count": null,
      "outputs": [
        {
          "output_type": "stream",
          "name": "stdout",
          "text": [
            "이름을 입력해주세요 >>> 양현욱\n",
            "hello 양현욱\n",
            "hello 양현욱\n"
          ]
        }
      ]
    },
    {
      "cell_type": "code",
      "source": [
        "#리스트에서 관해서.. 문자열\n",
        "#String = 문자열\n",
        "str = 'hello world'\n",
        "print(str[4]) #['h', 'e' , 'l', 'l', 'o'..... 저장되고 있음]\n",
        "print(len(str)) #len() 기능은 문자의 길이를 출력 공백 포함\n",
        "\n",
        "list = [1, 2, 3, 4, 5] #배열의 길이를 알 수 있을까?\n",
        "print(len(list))"
      ],
      "metadata": {
        "id": "BfWLLkcvtZMW",
        "colab": {
          "base_uri": "https://localhost:8080/"
        },
        "outputId": "c9241fde-4157-49d3-b1af-81870afa954c"
      },
      "execution_count": null,
      "outputs": [
        {
          "output_type": "stream",
          "name": "stdout",
          "text": [
            "o\n",
            "11\n",
            "5\n"
          ]
        }
      ]
    },
    {
      "cell_type": "code",
      "source": [
        "#반복문 - 반복되는 작업을 쉽게\n",
        "#상황 - 리스트 = [0, 0, 0, 0, 0, 0, ....] => 100칸 생성\n",
        "#list = [ 0, 0, 0, 0, 0, 0, .......] 또는\n",
        "#list = [] list.append(0) 추가하기 100번\n",
        "\n",
        "#반복 명령어 - for, while\n",
        "#for = 제한된 횟수 만큼 반복\n",
        "#k = 반복하면서 사용할 변수\n",
        "#range(범위) 0 ~ 범위까지\n",
        "for k in range(2,5):\n",
        "# : 표시는 중괄호 시작이랑 같은 뜻\n",
        "  #안에 들여쓰기를 했음.\n",
        "  print(k) #k = 0~9까지 변신\n",
        "print('반복중')"
      ],
      "metadata": {
        "colab": {
          "base_uri": "https://localhost:8080/"
        },
        "id": "uDJkf8ag-29V",
        "outputId": "5aa1b0e0-189c-4afe-cce7-b07adb1bb6b8"
      },
      "execution_count": null,
      "outputs": [
        {
          "output_type": "stream",
          "name": "stdout",
          "text": [
            "2\n",
            "3\n",
            "4\n",
            "반복중\n"
          ]
        }
      ]
    },
    {
      "cell_type": "code",
      "source": [
        "# 100개의 리스트 배열을 만들고 [0, 2, 4, 6....] 순서로 값을 초기화\n",
        "for n in range(100):\n",
        "  list.append(n*2)\n",
        "  print(list)\n",
        "#n = 0, 1, 2....99\n",
        "#range(a부터, b전까지, c만큼 +, - 해라)"
      ],
      "metadata": {
        "id": "C2dxwSafBc8b"
      },
      "execution_count": null,
      "outputs": []
    },
    {
      "cell_type": "code",
      "source": [
        "#for은 반복은 => 똑같은 작업을 할 수 잇도록 횟수를 지정하는 반복문\n",
        "#인력하는 단의 구구단 출력\n",
        "#예) 3입력 => 3 * 1 ..... 3 * 9 = 27\n",
        "a = int(input('숫자를 입력해주세요 >>> '))\n",
        "print(a * 3) #input으로 받은 값은 문자로 처리됨\n",
        "# b = int(a) int 타입 = 정수값으로 변경"
      ],
      "metadata": {
        "id": "yjAML-pjDIun",
        "colab": {
          "base_uri": "https://localhost:8080/"
        },
        "outputId": "348a6d16-4f04-4abf-acfc-1a32d3425211"
      },
      "execution_count": 25,
      "outputs": [
        {
          "output_type": "stream",
          "name": "stdout",
          "text": [
            "숫자를 입력해주세요 >>> 3\n",
            "9\n"
          ]
        }
      ]
    },
    {
      "cell_type": "code",
      "source": [
        "a = int(input('숫자를 입력해주세요 >>> ')) # {} 는 안에 있는 변수의 값을 출력\n",
        "for b in range(1,10): #1 ~ 10 전까지 = 1 ~ 9 콜론 : 붙이도록\n",
        "    print(a, '*'  , b , '=', a * b) #반복할 문장은 Tab만큼 둘여써서 작성\n",
        "    #print(f'{a} * {b} * = {a * b})"
      ],
      "metadata": {
        "colab": {
          "base_uri": "https://localhost:8080/"
        },
        "id": "kYsuilmEh7sT",
        "outputId": "1cc71eaf-d2c4-404b-c9ae-969d164e6313"
      },
      "execution_count": 46,
      "outputs": [
        {
          "output_type": "stream",
          "name": "stdout",
          "text": [
            "숫자를 입력해주세요 >>> 3\n",
            "3 * 1 = 3\n",
            "3 * 2 = 6\n",
            "3 * 3 = 9\n",
            "3 * 4 = 12\n",
            "3 * 5 = 15\n",
            "3 * 6 = 18\n",
            "3 * 7 = 21\n",
            "3 * 8 = 24\n",
            "3 * 9 = 27\n"
          ]
        }
      ]
    }
  ]
}